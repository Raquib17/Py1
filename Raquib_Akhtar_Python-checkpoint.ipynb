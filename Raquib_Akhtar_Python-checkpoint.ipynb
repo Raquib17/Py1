{
 "cells": [
  {
   "cell_type": "code",
   "execution_count": 2,
   "metadata": {},
   "outputs": [],
   "source": [
    "import pandas as pd\n",
    "import numpy as np"
   ]
  },
  {
   "cell_type": "code",
   "execution_count": 3,
   "metadata": {},
   "outputs": [],
   "source": [
    "dict1 = {'ID':[1,2,3,4,5],'Name':['Alpha','Bravo','Charlie','Delta','Echo']}\n",
    "\n",
    "dict2 = {'ID':[2,2,5,3,1,1,4,4], \n",
    "'Sport':['Cricket','Football','Basketball','Basketball','Table tennis','Cricket','Football','Basketball']}\n",
    "\n",
    "dict3 = {'ID':[2,1,3,5,4], 'Marks':[30,' ',85,65,97]}\n",
    "\n",
    "df1 = pd.DataFrame(data = dict1)\n",
    "df2 = pd.DataFrame(data = dict2)\n",
    "df3=  pd.DataFrame(data = dict3)\n",
    "\n",
    "df3['Marks']=np.where(df3['ID']==1,np.nan,df3['Marks'])\n"
   ]
  },
  {
   "cell_type": "code",
   "execution_count": 4,
   "metadata": {},
   "outputs": [
    {
     "data": {
      "text/plain": [
       "['arjit', 'singh', 'transorg', 'com']"
      ]
     },
     "execution_count": 4,
     "metadata": {},
     "output_type": "execute_result"
    }
   ],
   "source": [
    " string = 'ajit.singh@transorg.com'\n",
    ">>> string.split()\n",
    "['arjit', 'singh', 'transorg', 'com']"
   ]
  },
  {
   "cell_type": "code",
   "execution_count": 6,
   "metadata": {},
   "outputs": [
    {
     "name": "stdout",
     "output_type": "stream",
     "text": [
      "['ajit.singh@transorg.com']\n"
     ]
    }
   ],
   "source": [
    "def convert(lst): \n",
    "    return (lst[0].split()) \n",
    "  \n",
    "# Driver code \n",
    "string.split()\n",
    "lst =  [\"ajit.singh@transorg.com\"] \n",
    "print( convert(lst))"
   ]
  },
  {
   "cell_type": "code",
   "execution_count": 7,
   "metadata": {},
   "outputs": [
    {
     "name": "stdout",
     "output_type": "stream",
     "text": [
      "[2, 3, 4]\n"
     ]
    }
   ],
   "source": [
    "def intersection(lst1, lst2): \n",
    "    return list(set(lst1) & set(lst2)) \n",
    "  \n",
    "# Driver Code \n",
    "lst1 = [1,2,3,4,5,6] \n",
    "lst2 = [2,3,4,7,8] \n",
    "print(intersection(lst1, lst2)) "
   ]
  },
  {
   "cell_type": "code",
   "execution_count": 9,
   "metadata": {},
   "outputs": [
    {
     "ename": "IndentationError",
     "evalue": "unexpected indent (<ipython-input-9-34b67d1f30d0>, line 3)",
     "output_type": "error",
     "traceback": [
      "\u001b[1;36m  File \u001b[1;32m\"<ipython-input-9-34b67d1f30d0>\"\u001b[1;36m, line \u001b[1;32m3\u001b[0m\n\u001b[1;33m    print dict_enum.keys()\u001b[0m\n\u001b[1;37m    ^\u001b[0m\n\u001b[1;31mIndentationError\u001b[0m\u001b[1;31m:\u001b[0m unexpected indent\n"
     ]
    }
   ],
   "source": [
    "lst = [1,2,2,1,3,4]\n",
    "dict_enum = {item:index for index, item in enumerate(lst)}\n",
    " print dict_enum.keys()"
   ]
  },
  {
   "cell_type": "code",
   "execution_count": null,
   "metadata": {},
   "outputs": [],
   "source": []
  }
 ],
 "metadata": {
  "kernelspec": {
   "display_name": "Python 3",
   "language": "python",
   "name": "python3"
  },
  "language_info": {
   "codemirror_mode": {
    "name": "ipython",
    "version": 3
   },
   "file_extension": ".py",
   "mimetype": "text/x-python",
   "name": "python",
   "nbconvert_exporter": "python",
   "pygments_lexer": "ipython3",
   "version": "3.7.3"
  }
 },
 "nbformat": 4,
 "nbformat_minor": 2
}
